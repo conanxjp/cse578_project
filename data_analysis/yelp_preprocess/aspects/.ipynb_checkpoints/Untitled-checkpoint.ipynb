{
 "cells": [
  {
   "cell_type": "code",
   "execution_count": 9,
   "metadata": {},
   "outputs": [],
   "source": [
    "import json\n",
    "import pandas as pd\n",
    "import numpy as np\n",
    "from nltk.tokenize import sent_tokenize\n",
    "from nltk.metrics import edit_distance\n",
    "from nltk import (word_tokenize, pos_tag)\n",
    "import hunspell\n",
    "import argparse\n",
    "import sys\n",
    "import csv\n",
    "import os\n",
    "import re\n",
    "from tqdm import tqdm\n",
    "import config as cf\n",
    "import preprocess as pp"
   ]
  },
  {
   "cell_type": "code",
   "execution_count": 14,
   "metadata": {},
   "outputs": [],
   "source": [
    "def loadDictionary():\n",
    "    with open(dataPath + '%s_filtered.txt' % cf.WORD2VEC_FILE[0:-4], 'r') as f:\n",
    "        for line in f:\n",
    "            values = line.split()\n",
    "            word = pp.joinWord(values[:-300])\n",
    "            vector = np.array(values[-300:], dtype='float32')\n",
    "            dictionary[word] = vector\n",
    "    f.close()\n",
    "    \n",
    "def encodeReview(filePath, state):\n",
    "    index = list(dictionary.keys())\n",
    "    header = ['reviewid', 'sentence']\n",
    "    encoding = pd.DataFrame(columns = header)\n",
    "    with open(filePath) as json_data:\n",
    "        max = 0\n",
    "        j = 0\n",
    "        reviewIndex = []\n",
    "        for i, line in enumerate(tqdm(json_data)):\n",
    "            review = json.loads(line)\n",
    "            print(review)\n",
    "#             texts = review['text']\n",
    "#             reviewId = review['review_id']\n",
    "#             sentences = sent_tokenize(texts)\n",
    "#             for sentence in sentences:\n",
    "#                 encoding.loc[j] = [reviewId, sentence]\n",
    "#                 j = j + 1\n",
    "#                 sentenceIndex = []\n",
    "#                 for word in word_tokenize(sentence):\n",
    "#                     try:\n",
    "#                         idx = index.index(word)\n",
    "#                     except ValueError:\n",
    "#                         idx = 4859\n",
    "#                     sentenceIndex.append(idx)\n",
    "#                 if max < len(sentenceIndex):\n",
    "#                     max = len(sentenceIndex)\n",
    "#                 textIndex.append(sentenceIndex)            \n",
    "#     print(max)\n",
    "#     np.save(dataPath + '%s' % state, np.array(textIndex))\n",
    "    \n",
    "    "
   ]
  },
  {
   "cell_type": "code",
   "execution_count": null,
   "metadata": {},
   "outputs": [],
   "source": [
    "# hyperparameters\n",
    "batch_iterations = 10000\n",
    "batch_size = 32\n",
    "full_iterations = 200\n",
    "learning_rate = 0.001\n",
    "reg_eta = 0.001\n",
    "\n",
    "# dimensionalities\n",
    "dim_lstm = 300\n",
    "dim_word = 300\n",
    "dim_aspect = 5\n",
    "dim_sentence = 80\n",
    "\n",
    "# setup utils object\n",
    "isSample = True\n",
    "u = utils.UTILS(batch_size, dim_sentence, dim_aspect, isSample)\n",
    "\n",
    "# define tf placeholders\n",
    "X = tf.placeholder(tf.int32, [None, dim_sentence])\n",
    "y = tf.placeholder(tf.float32, [None, dim_aspect])\n",
    "seqlen = tf.placeholder(tf.int32, [None])\n",
    "\n",
    "# define tf variables\n",
    "with tf.variable_scope('bilstm_vars'):\n",
    "    with tf.variable_scope('weights', reuse = tf.AUTO_REUSE):\n",
    "        lstm_w = tf.get_variable(\n",
    "            name = 'softmax_w',\n",
    "            shape = [dim_lstm * 2, dim_aspect],\n",
    "            initializer = tf.random_uniform_initializer(-0.003, 0.003),\n",
    "            regularizer = tf.contrib.layers.l2_regularizer(reg_eta)\n",
    "        )\n",
    "    with tf.variable_scope('biases', reuse = tf.AUTO_REUSE):\n",
    "        lstm_b = tf.get_variable(\n",
    "            name = 'softmax_b',\n",
    "            shape = [dim_aspect],\n",
    "            initializer = tf.random_uniform_initializer(-0.003, 0.003),\n",
    "            regularizer = tf.contrib.layers.l2_regularizer(reg_eta)\n",
    "        )\n",
    "\n",
    "\n",
    "# define lstm model\n",
    "def dynamic_lstm(inputs, seqlen):\n",
    "    inputs = tf.nn.dropout(inputs, keep_prob=1.0)\n",
    "    with tf.name_scope('bilstm_model'):\n",
    "        forward_lstm_cell = tf.contrib.rnn.LSTMCell(dim_lstm)\n",
    "        backward_lstm_cell = tf.contrib.rnn.LSTMCell(dim_lstm)\n",
    "        outputs, states = tf.nn.bidirectional_dynamic_rnn(\n",
    "            forward_lstm_cell,\n",
    "            backward_lstm_cell,\n",
    "            inputs = inputs,\n",
    "            sequence_length = seqlen,\n",
    "            dtype = tf.float32,\n",
    "            scope = 'bilstm'\n",
    "        )\n",
    "        forward_outputs, backward_outputs = outputs\n",
    "        backward_outputs = tf.reverse_sequence(backward_outputs, tf.cast(seqlen, tf.int64), seq_dim=1)\n",
    "        outputs = tf.concat([forward_outputs, backward_outputs], 2)\n",
    "        size = tf.shape(outputs)[0]\n",
    "        index = tf.range(0, size) * dim_sentence + seqlen - 1\n",
    "        output = tf.gather(tf.reshape(outputs, [-1, dim_lstm * 2]), index)  # batch_size * n_hidden * 2\n",
    "    predict = tf.matmul(output, lstm_w) + lstm_b\n",
    "    return predict\n",
    "\n",
    "# define operations\n",
    "pred = dynamic_lstm(tf.nn.embedding_lookup(u.gloveDict, X), seqlen)\n",
    "loss = tf.reduce_mean(tf.nn.softmax_cross_entropy_with_logits_v2(logits = pred, labels = y))\n",
    "optimizer = tf.train.AdamOptimizer(learning_rate).minimize(loss)\n",
    "correct = tf.equal(tf.argmax(pred, 1), tf.argmax(y, 1))\n",
    "accuracy = tf.reduce_mean(tf.cast(correct, tf.float32))\n",
    "init = tf.global_variables_initializer()\n",
    "\n",
    "saver = tf.train.Saver()"
   ]
  },
  {
   "cell_type": "code",
   "execution_count": 3,
   "metadata": {},
   "outputs": [],
   "source": [
    "dictionary = {}\n",
    "dataPath = cf.ROOT_PATH + cf.DATA_PATH\n"
   ]
  },
  {
   "cell_type": "code",
   "execution_count": 6,
   "metadata": {},
   "outputs": [],
   "source": [
    "loadDictionary()"
   ]
  },
  {
   "cell_type": "code",
   "execution_count": 15,
   "metadata": {},
   "outputs": [
    {
     "name": "stderr",
     "output_type": "stream",
     "text": [
      "0it [00:00, ?it/s]\n"
     ]
    },
    {
     "ename": "TypeError",
     "evalue": "list indices must be integers or slices, not str",
     "output_type": "error",
     "traceback": [
      "\u001b[0;31m---------------------------------------------------------------------------\u001b[0m",
      "\u001b[0;31mTypeError\u001b[0m                                 Traceback (most recent call last)",
      "\u001b[0;32m<ipython-input-15-117a7062a6b8>\u001b[0m in \u001b[0;36m<module>\u001b[0;34m()\u001b[0m\n\u001b[0;32m----> 1\u001b[0;31m \u001b[0mencodeReview\u001b[0m\u001b[0;34m(\u001b[0m\u001b[0mdataPath\u001b[0m \u001b[0;34m+\u001b[0m \u001b[0;34m'AZ_reviews.json'\u001b[0m\u001b[0;34m,\u001b[0m \u001b[0;34m'AZ'\u001b[0m\u001b[0;34m)\u001b[0m\u001b[0;34m\u001b[0m\u001b[0m\n\u001b[0m",
      "\u001b[0;32m<ipython-input-14-49f23a0cdf2f>\u001b[0m in \u001b[0;36mencodeReview\u001b[0;34m(filePath, state)\u001b[0m\n\u001b[1;32m     18\u001b[0m         \u001b[0;32mfor\u001b[0m \u001b[0mi\u001b[0m\u001b[0;34m,\u001b[0m \u001b[0mline\u001b[0m \u001b[0;32min\u001b[0m \u001b[0menumerate\u001b[0m\u001b[0;34m(\u001b[0m\u001b[0mtqdm\u001b[0m\u001b[0;34m(\u001b[0m\u001b[0mjson_data\u001b[0m\u001b[0;34m)\u001b[0m\u001b[0;34m)\u001b[0m\u001b[0;34m:\u001b[0m\u001b[0;34m\u001b[0m\u001b[0m\n\u001b[1;32m     19\u001b[0m             \u001b[0mreview\u001b[0m \u001b[0;34m=\u001b[0m \u001b[0mjson\u001b[0m\u001b[0;34m.\u001b[0m\u001b[0mloads\u001b[0m\u001b[0;34m(\u001b[0m\u001b[0mline\u001b[0m\u001b[0;34m)\u001b[0m\u001b[0;34m\u001b[0m\u001b[0m\n\u001b[0;32m---> 20\u001b[0;31m             \u001b[0mtexts\u001b[0m \u001b[0;34m=\u001b[0m \u001b[0mreview\u001b[0m\u001b[0;34m[\u001b[0m\u001b[0;34m'text'\u001b[0m\u001b[0;34m]\u001b[0m\u001b[0;34m\u001b[0m\u001b[0m\n\u001b[0m\u001b[1;32m     21\u001b[0m             \u001b[0mreviewId\u001b[0m \u001b[0;34m=\u001b[0m \u001b[0mreview\u001b[0m\u001b[0;34m[\u001b[0m\u001b[0;34m'review_id'\u001b[0m\u001b[0;34m]\u001b[0m\u001b[0;34m\u001b[0m\u001b[0m\n\u001b[1;32m     22\u001b[0m             \u001b[0msentences\u001b[0m \u001b[0;34m=\u001b[0m \u001b[0msent_tokenize\u001b[0m\u001b[0;34m(\u001b[0m\u001b[0mtexts\u001b[0m\u001b[0;34m)\u001b[0m\u001b[0;34m\u001b[0m\u001b[0m\n",
      "\u001b[0;31mTypeError\u001b[0m: list indices must be integers or slices, not str"
     ]
    }
   ],
   "source": [
    "encodeReview(dataPath + 'AZ_reviews.json', 'AZ')"
   ]
  },
  {
   "cell_type": "code",
   "execution_count": null,
   "metadata": {},
   "outputs": [],
   "source": []
  }
 ],
 "metadata": {
  "kernelspec": {
   "display_name": "Python 3",
   "language": "python",
   "name": "python3"
  },
  "language_info": {
   "codemirror_mode": {
    "name": "ipython",
    "version": 3
   },
   "file_extension": ".py",
   "mimetype": "text/x-python",
   "name": "python",
   "nbconvert_exporter": "python",
   "pygments_lexer": "ipython3",
   "version": "3.6.4"
  }
 },
 "nbformat": 4,
 "nbformat_minor": 2
}
